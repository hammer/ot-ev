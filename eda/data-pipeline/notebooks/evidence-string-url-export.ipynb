{
 "cells": [
  {
   "cell_type": "code",
   "execution_count": 1,
   "metadata": {},
   "outputs": [],
   "source": [
    "%run utils.py\n",
    "import codecs\n",
    "import json\n",
    "import hashlib\n",
    "import tqdm\n",
    "import os.path as osp\n",
    "import os\n",
    "import numpy as np\n",
    "import pandas as pd\n",
    "import collections\n",
    "import more_itertools\n",
    "from mrtarget.common import IO\n",
    "export_dir = '/lab/data/raw/evidence-data-stage-1'"
   ]
  },
  {
   "cell_type": "code",
   "execution_count": 2,
   "metadata": {},
   "outputs": [
    {
     "data": {
      "text/plain": [
       "0               chembl-2019-08-16.json.gz\n",
       "1              uniprot-2019-08-13.json.gz\n",
       "2           slapenrich-2018-11-29.json.gz\n",
       "3            phenodigm-2019-08-20.json.gz\n",
       "4               sysbio-2019-01-31.json.gz\n",
       "5     genomics_england-2018-10-02.json.gz\n",
       "6              progeny-2018-07-23.json.gz\n",
       "7       phewas_catalog-2018-11-28.json.gz\n",
       "8               crispr-2019-08-21.json.gz\n",
       "9       gene2phenotype-2019-08-19.json.gz\n",
       "10                gwas-2019-08-14.json.gz\n",
       "11            reactome-2019-08-15.json.gz\n",
       "12             intogen-2019-08-16.json.gz\n",
       "13                 eva-2019-08-20.json.gz\n",
       "14              cosmic-2019-08-05.json.gz\n",
       "15               atlas-2019-08-13.json.gz\n",
       "dtype: object"
      ]
     },
     "execution_count": 2,
     "metadata": {},
     "output_type": "execute_result"
    }
   ],
   "source": [
    "cfg = get_data_config()\n",
    "files = cfg['input-file']\n",
    "files = [f for f in files if 'epmc' not in f]\n",
    "pd.Series(files).apply(lambda v: v.split('/')[-1])"
   ]
  },
  {
   "cell_type": "code",
   "execution_count": 3,
   "metadata": {},
   "outputs": [],
   "source": [
    "! [ -d $export_dir ] && rm -rf $export_dir"
   ]
  },
  {
   "cell_type": "code",
   "execution_count": 4,
   "metadata": {},
   "outputs": [
    {
     "name": "stderr",
     "output_type": "stream",
     "text": [
      "100%|██████████| 16/16 [05:39<00:00, 21.22s/it]\n"
     ]
    },
    {
     "data": {
      "text/plain": [
       "{'success': 1681344, 'failure': 1}"
      ]
     },
     "execution_count": 4,
     "metadata": {},
     "output_type": "execute_result"
    }
   ],
   "source": [
    "def to_rec(line):\n",
    "    # Decode bytes and deserialized json\n",
    "    # See: https://github.com/opentargets/data_pipeline/blob/f0b508d0e0a6e7c5627dfa9be5ff37d2f2173cf8/mrtarget/modules/Evidences.py#L117\n",
    "    (filename, (line_n, l)) = line\n",
    "    line_str = codecs.decode(l, 'utf-8', 'replace')\n",
    "    try:\n",
    "        rec = json.loads(line_str)\n",
    "    except Exception as e:\n",
    "        return None\n",
    "    rec['line_number'] = line_n\n",
    "    rec['filename'] = osp.basename(filename)\n",
    "    return rec\n",
    "\n",
    "def to_value(v):\n",
    "    # Convert objects back to json string\n",
    "    return v if np.isscalar(v) else json.dumps(v)\n",
    "\n",
    "# Download data for all files as separate parquet partitions\n",
    "cts = collections.defaultdict(lambda: 0)\n",
    "for f in tqdm.tqdm(files):\n",
    "    batches = more_itertools.chunked(IO.open_to_read(f), 100000)\n",
    "    for i, batch in enumerate(batches):\n",
    "        df = []\n",
    "        for line in batch:\n",
    "            rec = to_rec(line)\n",
    "            if rec is None:\n",
    "                cts['failure'] += 1\n",
    "                continue\n",
    "            cts['success'] += 1\n",
    "            rec = {k: to_value(v) for k, v in rec.items()}\n",
    "            df.append(rec)\n",
    "        df = pd.DataFrame(df)\n",
    "        df = df[sorted(df.columns.tolist())]\n",
    "        df['batch'] = i\n",
    "        for k, g in df.groupby('sourceID'):\n",
    "            export_file = osp.join(export_dir, f'sourceID-{k}:batch-{i}.feather')\n",
    "            if osp.exists(export_file):\n",
    "                raise AssertionError(f'File \"{export_file}\" already exists')\n",
    "            os.makedirs(export_dir, exist_ok=True)\n",
    "            g.reset_index(drop=True).to_feather(export_file)\n",
    "dict(cts)"
   ]
  },
  {
   "cell_type": "code",
   "execution_count": 5,
   "metadata": {},
   "outputs": [
    {
     "name": "stdout",
     "output_type": "stream",
     "text": [
      "<class 'pandas.core.frame.DataFrame'>\n",
      "RangeIndex: 15075 entries, 0 to 15074\n",
      "Data columns (total 11 columns):\n",
      "access_level                 15075 non-null object\n",
      "disease                      15075 non-null object\n",
      "evidence                     15075 non-null object\n",
      "filename                     15075 non-null object\n",
      "line_number                  15075 non-null int64\n",
      "literature                   7227 non-null object\n",
      "sourceID                     15075 non-null object\n",
      "target                       15075 non-null object\n",
      "type                         15075 non-null object\n",
      "unique_association_fields    15075 non-null object\n",
      "batch                        15075 non-null int64\n",
      "dtypes: int64(2), object(9)\n",
      "memory usage: 1.3+ MB\n"
     ]
    }
   ],
   "source": [
    "df.info()"
   ]
  },
  {
   "cell_type": "code",
   "execution_count": 6,
   "metadata": {},
   "outputs": [
    {
     "data": {
      "text/html": [
       "<div>\n",
       "<style scoped>\n",
       "    .dataframe tbody tr th:only-of-type {\n",
       "        vertical-align: middle;\n",
       "    }\n",
       "\n",
       "    .dataframe tbody tr th {\n",
       "        vertical-align: top;\n",
       "    }\n",
       "\n",
       "    .dataframe thead th {\n",
       "        text-align: right;\n",
       "    }\n",
       "</style>\n",
       "<table border=\"1\" class=\"dataframe\">\n",
       "  <thead>\n",
       "    <tr style=\"text-align: right;\">\n",
       "      <th></th>\n",
       "      <th>access_level</th>\n",
       "      <th>disease</th>\n",
       "      <th>evidence</th>\n",
       "      <th>filename</th>\n",
       "      <th>line_number</th>\n",
       "      <th>literature</th>\n",
       "      <th>sourceID</th>\n",
       "      <th>target</th>\n",
       "      <th>type</th>\n",
       "      <th>unique_association_fields</th>\n",
       "      <th>batch</th>\n",
       "    </tr>\n",
       "  </thead>\n",
       "  <tbody>\n",
       "    <tr>\n",
       "      <td>0</td>\n",
       "      <td>public</td>\n",
       "      <td>{\"id\": \"http://www.ebi.ac.uk/efo/EFO_0003834\",...</td>\n",
       "      <td>{\"is_associated\": true, \"unique_experiment_ref...</td>\n",
       "      <td>atlas-2019-08-13.json.gz</td>\n",
       "      <td>200001</td>\n",
       "      <td>NaN</td>\n",
       "      <td>expression_atlas</td>\n",
       "      <td>{\"id\": \"http://identifiers.org/ensembl/ENSG000...</td>\n",
       "      <td>rna_expression</td>\n",
       "      <td>{\"geneID\": \"http://identifiers.org/ensembl/ENS...</td>\n",
       "      <td>2</td>\n",
       "    </tr>\n",
       "    <tr>\n",
       "      <td>1</td>\n",
       "      <td>public</td>\n",
       "      <td>{\"id\": \"http://www.ebi.ac.uk/efo/EFO_0003834\",...</td>\n",
       "      <td>{\"is_associated\": true, \"unique_experiment_ref...</td>\n",
       "      <td>atlas-2019-08-13.json.gz</td>\n",
       "      <td>200002</td>\n",
       "      <td>NaN</td>\n",
       "      <td>expression_atlas</td>\n",
       "      <td>{\"id\": \"http://identifiers.org/ensembl/ENSG000...</td>\n",
       "      <td>rna_expression</td>\n",
       "      <td>{\"geneID\": \"http://identifiers.org/ensembl/ENS...</td>\n",
       "      <td>2</td>\n",
       "    </tr>\n",
       "    <tr>\n",
       "      <td>2</td>\n",
       "      <td>public</td>\n",
       "      <td>{\"id\": \"http://www.ebi.ac.uk/efo/EFO_0003834\",...</td>\n",
       "      <td>{\"is_associated\": true, \"unique_experiment_ref...</td>\n",
       "      <td>atlas-2019-08-13.json.gz</td>\n",
       "      <td>200003</td>\n",
       "      <td>NaN</td>\n",
       "      <td>expression_atlas</td>\n",
       "      <td>{\"id\": \"http://identifiers.org/ensembl/ENSG000...</td>\n",
       "      <td>rna_expression</td>\n",
       "      <td>{\"geneID\": \"http://identifiers.org/ensembl/ENS...</td>\n",
       "      <td>2</td>\n",
       "    </tr>\n",
       "    <tr>\n",
       "      <td>3</td>\n",
       "      <td>public</td>\n",
       "      <td>{\"id\": \"http://www.ebi.ac.uk/efo/EFO_0003834\",...</td>\n",
       "      <td>{\"is_associated\": true, \"unique_experiment_ref...</td>\n",
       "      <td>atlas-2019-08-13.json.gz</td>\n",
       "      <td>200004</td>\n",
       "      <td>NaN</td>\n",
       "      <td>expression_atlas</td>\n",
       "      <td>{\"id\": \"http://identifiers.org/ensembl/ENSG000...</td>\n",
       "      <td>rna_expression</td>\n",
       "      <td>{\"geneID\": \"http://identifiers.org/ensembl/ENS...</td>\n",
       "      <td>2</td>\n",
       "    </tr>\n",
       "    <tr>\n",
       "      <td>4</td>\n",
       "      <td>public</td>\n",
       "      <td>{\"id\": \"http://www.ebi.ac.uk/efo/EFO_0003834\",...</td>\n",
       "      <td>{\"is_associated\": true, \"unique_experiment_ref...</td>\n",
       "      <td>atlas-2019-08-13.json.gz</td>\n",
       "      <td>200005</td>\n",
       "      <td>NaN</td>\n",
       "      <td>expression_atlas</td>\n",
       "      <td>{\"id\": \"http://identifiers.org/ensembl/ENSG000...</td>\n",
       "      <td>rna_expression</td>\n",
       "      <td>{\"geneID\": \"http://identifiers.org/ensembl/ENS...</td>\n",
       "      <td>2</td>\n",
       "    </tr>\n",
       "  </tbody>\n",
       "</table>\n",
       "</div>"
      ],
      "text/plain": [
       "  access_level                                            disease  \\\n",
       "0       public  {\"id\": \"http://www.ebi.ac.uk/efo/EFO_0003834\",...   \n",
       "1       public  {\"id\": \"http://www.ebi.ac.uk/efo/EFO_0003834\",...   \n",
       "2       public  {\"id\": \"http://www.ebi.ac.uk/efo/EFO_0003834\",...   \n",
       "3       public  {\"id\": \"http://www.ebi.ac.uk/efo/EFO_0003834\",...   \n",
       "4       public  {\"id\": \"http://www.ebi.ac.uk/efo/EFO_0003834\",...   \n",
       "\n",
       "                                            evidence  \\\n",
       "0  {\"is_associated\": true, \"unique_experiment_ref...   \n",
       "1  {\"is_associated\": true, \"unique_experiment_ref...   \n",
       "2  {\"is_associated\": true, \"unique_experiment_ref...   \n",
       "3  {\"is_associated\": true, \"unique_experiment_ref...   \n",
       "4  {\"is_associated\": true, \"unique_experiment_ref...   \n",
       "\n",
       "                   filename  line_number literature          sourceID  \\\n",
       "0  atlas-2019-08-13.json.gz       200001        NaN  expression_atlas   \n",
       "1  atlas-2019-08-13.json.gz       200002        NaN  expression_atlas   \n",
       "2  atlas-2019-08-13.json.gz       200003        NaN  expression_atlas   \n",
       "3  atlas-2019-08-13.json.gz       200004        NaN  expression_atlas   \n",
       "4  atlas-2019-08-13.json.gz       200005        NaN  expression_atlas   \n",
       "\n",
       "                                              target            type  \\\n",
       "0  {\"id\": \"http://identifiers.org/ensembl/ENSG000...  rna_expression   \n",
       "1  {\"id\": \"http://identifiers.org/ensembl/ENSG000...  rna_expression   \n",
       "2  {\"id\": \"http://identifiers.org/ensembl/ENSG000...  rna_expression   \n",
       "3  {\"id\": \"http://identifiers.org/ensembl/ENSG000...  rna_expression   \n",
       "4  {\"id\": \"http://identifiers.org/ensembl/ENSG000...  rna_expression   \n",
       "\n",
       "                           unique_association_fields  batch  \n",
       "0  {\"geneID\": \"http://identifiers.org/ensembl/ENS...      2  \n",
       "1  {\"geneID\": \"http://identifiers.org/ensembl/ENS...      2  \n",
       "2  {\"geneID\": \"http://identifiers.org/ensembl/ENS...      2  \n",
       "3  {\"geneID\": \"http://identifiers.org/ensembl/ENS...      2  \n",
       "4  {\"geneID\": \"http://identifiers.org/ensembl/ENS...      2  "
      ]
     },
     "execution_count": 6,
     "metadata": {},
     "output_type": "execute_result"
    }
   ],
   "source": [
    "df.head()"
   ]
  },
  {
   "cell_type": "code",
   "execution_count": 7,
   "metadata": {},
   "outputs": [
    {
     "name": "stdout",
     "output_type": "stream",
     "text": [
      "5.6G\t/lab/data/raw/evidence-data-stage-1\n",
      "5.6G\ttotal\n"
     ]
    }
   ],
   "source": [
    "!du -ch $export_dir"
   ]
  }
 ],
 "metadata": {
  "kernelspec": {
   "display_name": "Python 3",
   "language": "python",
   "name": "python3"
  },
  "language_info": {
   "codemirror_mode": {
    "name": "ipython",
    "version": 3
   },
   "file_extension": ".py",
   "mimetype": "text/x-python",
   "name": "python",
   "nbconvert_exporter": "python",
   "pygments_lexer": "ipython3",
   "version": "3.7.4"
  }
 },
 "nbformat": 4,
 "nbformat_minor": 4
}
