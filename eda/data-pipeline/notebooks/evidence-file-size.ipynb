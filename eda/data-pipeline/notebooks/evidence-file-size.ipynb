{
 "cells": [
  {
   "cell_type": "code",
   "execution_count": 19,
   "metadata": {},
   "outputs": [],
   "source": [
    "%run utils.py\n",
    "from mrtarget.common import IO\n",
    "import os.path as osp"
   ]
  },
  {
   "cell_type": "code",
   "execution_count": 9,
   "metadata": {},
   "outputs": [
    {
     "name": "stdout",
     "output_type": "stream",
     "text": [
      "Processing file https://storage.googleapis.com/open-targets-data-releases/19.09/input/evidence-files/chembl-2019-08-16.json.gz\n",
      "Processing file https://storage.googleapis.com/open-targets-data-releases/19.09/input/evidence-files/uniprot-2019-08-13.json.gz\n",
      "Processing file https://storage.googleapis.com/open-targets-data-releases/19.09/input/evidence-files/slapenrich-2018-11-29.json.gz\n",
      "Processing file https://storage.googleapis.com/open-targets-data-releases/19.09/input/evidence-files/phenodigm-2019-08-20.json.gz\n",
      "Processing file https://storage.googleapis.com/open-targets-data-releases/19.09/input/evidence-files/sysbio-2019-01-31.json.gz\n",
      "Processing file https://storage.googleapis.com/open-targets-data-releases/19.09/input/evidence-files/genomics_england-2018-10-02.json.gz\n",
      "Processing file https://storage.googleapis.com/open-targets-data-releases/19.09/input/evidence-files/epmc-2019-08-22.json.gz\n",
      "Processing file https://storage.googleapis.com/open-targets-data-releases/19.09/input/evidence-files/progeny-2018-07-23.json.gz\n",
      "Processing file https://storage.googleapis.com/open-targets-data-releases/19.09/input/evidence-files/phewas_catalog-2018-11-28.json.gz\n",
      "Processing file https://storage.googleapis.com/open-targets-data-releases/19.09/input/evidence-files/crispr-2019-08-21.json.gz\n",
      "Processing file https://storage.googleapis.com/open-targets-data-releases/19.09/input/evidence-files/gene2phenotype-2019-08-19.json.gz\n",
      "Processing file https://storage.googleapis.com/open-targets-data-releases/19.09/input/evidence-files/gwas-2019-08-14.json.gz\n",
      "Processing file https://storage.googleapis.com/open-targets-data-releases/19.09/input/evidence-files/reactome-2019-08-15.json.gz\n",
      "Processing file https://storage.googleapis.com/open-targets-data-releases/19.09/input/evidence-files/intogen-2019-08-16.json.gz\n",
      "Processing file https://storage.googleapis.com/open-targets-data-releases/19.09/input/evidence-files/eva-2019-08-20.json.gz\n",
      "Processing file https://storage.googleapis.com/open-targets-data-releases/19.09/input/evidence-files/cosmic-2019-08-05.json.gz\n",
      "Processing file https://storage.googleapis.com/open-targets-data-releases/19.09/input/evidence-files/atlas-2019-08-13.json.gz\n"
     ]
    }
   ],
   "source": [
    "cts = {}\n",
    "cfg = get_data_config()\n",
    "for f in cfg['input-file']:\n",
    "    print('Processing file', f)\n",
    "    it = IO.open_to_read(f)\n",
    "    ct = sum([1 for _ in it])\n",
    "    cts[osp.basename(f)] = ct"
   ]
  },
  {
   "cell_type": "code",
   "execution_count": 10,
   "metadata": {},
   "outputs": [
    {
     "data": {
      "text/plain": [
       "progeny-2018-07-23.json.gz                 407\n",
       "sysbio-2019-01-31.json.gz                  409\n",
       "gene2phenotype-2019-08-19.json.gz         1603\n",
       "crispr-2019-08-21.json.gz                 1844\n",
       "intogen-2019-08-16.json.gz                2594\n",
       "reactome-2019-08-15.json.gz              10189\n",
       "genomics_england-2018-10-02.json.gz      11079\n",
       "uniprot-2019-08-13.json.gz               35420\n",
       "cosmic-2019-08-05.json.gz                60371\n",
       "phewas_catalog-2018-11-28.json.gz        71027\n",
       "slapenrich-2018-11-29.json.gz            74583\n",
       "eva-2019-08-20.json.gz                  107121\n",
       "gwas-2019-08-14.json.gz                 187740\n",
       "atlas-2019-08-13.json.gz                215075\n",
       "chembl-2019-08-16.json.gz               400440\n",
       "phenodigm-2019-08-20.json.gz            501443\n",
       "epmc-2019-08-22.json.gz                7238930\n",
       "dtype: int64"
      ]
     },
     "execution_count": 10,
     "metadata": {},
     "output_type": "execute_result"
    }
   ],
   "source": [
    "import pandas as pd\n",
    "pd.Series(cts).sort_values()"
   ]
  },
  {
   "cell_type": "code",
   "execution_count": 18,
   "metadata": {},
   "outputs": [
    {
     "data": {
      "text/plain": [
       "False    1681345\n",
       "True     7238930\n",
       "dtype: int64"
      ]
     },
     "execution_count": 18,
     "metadata": {},
     "output_type": "execute_result"
    }
   ],
   "source": [
    "s = pd.Series(cts)\n",
    "s.groupby(s.index == 'epmc-2019-08-22.json.gz').sum()"
   ]
  }
 ],
 "metadata": {
  "kernelspec": {
   "display_name": "Python 3",
   "language": "python",
   "name": "python3"
  },
  "language_info": {
   "codemirror_mode": {
    "name": "ipython",
    "version": 3
   },
   "file_extension": ".py",
   "mimetype": "text/x-python",
   "name": "python",
   "nbconvert_exporter": "python",
   "pygments_lexer": "ipython3",
   "version": "3.7.4"
  }
 },
 "nbformat": 4,
 "nbformat_minor": 4
}
