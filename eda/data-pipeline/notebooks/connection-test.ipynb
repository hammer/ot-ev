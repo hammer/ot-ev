{
 "cells": [
  {
   "cell_type": "markdown",
   "metadata": {},
   "source": [
    "## Test ElasticSearch Connection"
   ]
  },
  {
   "cell_type": "code",
   "execution_count": 17,
   "metadata": {},
   "outputs": [
    {
     "name": "stdout",
     "output_type": "stream",
     "text": [
      "{\n",
      "  \"name\" : \"f3e5f97fc551\",\n",
      "  \"cluster_name\" : \"docker-cluster\",\n",
      "  \"cluster_uuid\" : \"WBt8v-jCSB225AcepUOqMw\",\n",
      "  \"version\" : {\n",
      "    \"number\" : \"7.2.0\",\n",
      "    \"build_flavor\" : \"oss\",\n",
      "    \"build_type\" : \"docker\",\n",
      "    \"build_hash\" : \"508c38a\",\n",
      "    \"build_date\" : \"2019-06-20T15:54:18.811730Z\",\n",
      "    \"build_snapshot\" : false,\n",
      "    \"lucene_version\" : \"8.0.0\",\n",
      "    \"minimum_wire_compatibility_version\" : \"6.8.0\",\n",
      "    \"minimum_index_compatibility_version\" : \"6.0.0-beta1\"\n",
      "  },\n",
      "  \"tagline\" : \"You Know, for Search\"\n",
      "}\n"
     ]
    }
   ],
   "source": [
    "# Check status to ensure connectivity through docker network (name=\"data_pipeline_default\")\n",
    "!curl http://elasticsearch:9200"
   ]
  },
  {
   "cell_type": "code",
   "execution_count": 18,
   "metadata": {},
   "outputs": [],
   "source": [
    "# Create ES client and run query\n",
    "%run utils.py\n",
    "es = get_es_client()"
   ]
  },
  {
   "cell_type": "code",
   "execution_count": 19,
   "metadata": {},
   "outputs": [
    {
     "data": {
      "text/plain": [
       "(10000, 5)"
      ]
     },
     "execution_count": 19,
     "metadata": {},
     "output_type": "execute_result"
    }
   ],
   "source": [
    "query = {\"query\": {\"match_all\": {}}, \"size\": 5}\n",
    "res = es.search(index='master_evidence-data', body=query)\n",
    "res['hits']['total']['value'], len(res['hits']['hits'])"
   ]
  },
  {
   "cell_type": "code",
   "execution_count": 20,
   "metadata": {},
   "outputs": [
    {
     "data": {
      "text/plain": [
       "{'_index': 'master_evidence-data',\n",
       " '_type': '_doc',\n",
       " '_id': '38c0851b3dba497d71ad645a01f498c3',\n",
       " '_score': 1.0,\n",
       " '_source': {'access_level': 'public',\n",
       "  'disease': {'biosample': {'id': 'http://purl.obolibrary.org/obo/UBERON_0002116',\n",
       "    'name': 'ileum'},\n",
       "   'efo_info': {'efo_id': 'http://www.ebi.ac.uk/efo/EFO_0000384',\n",
       "    'label': \"Crohn's disease\",\n",
       "    'path': [['EFO_0000408', 'EFO_0000405', 'EFO_0003767', 'EFO_0000384'],\n",
       "     ['EFO_0000408',\n",
       "      'EFO_0000540',\n",
       "      'EFO_0005140',\n",
       "      'EFO_0003767',\n",
       "      'EFO_0000384']],\n",
       "    'therapeutic_area': {'codes': [], 'labels': []}},\n",
       "   'id': 'EFO_0000384'},\n",
       "  'evidence': {'comparison_name': \"'Crohn's disease' vs 'non inflammatory bowel disease control' in 'A1b Paris classification'\",\n",
       "   'confidence_level': 'medium',\n",
       "   'date_asserted': '2019-05-14T15:19:25Z',\n",
       "   'evidence_codes': ['ECO_0000295'],\n",
       "   'evidence_codes_info': [[{'eco_id': 'ECO_0000295',\n",
       "      'label': 'RNA-seq evidence'}]],\n",
       "   'experiment_overview': \"RNA-seq of ileal biopsies from diagnostic endoscopy of pediatric Crohn's disease patients and non inflammatory bowel disease controls\",\n",
       "   'is_associated': True,\n",
       "   'log2_fold_change': {'percentile_rank': 99, 'value': 2.1},\n",
       "   'organism_part': 'http://purl.obolibrary.org/obo/UBERON_0002116',\n",
       "   'provenance_type': {'database': {'id': 'Expression_Atlas',\n",
       "     'version': 'prod.30'}},\n",
       "   'reference_replicates_n': 37,\n",
       "   'reference_sample': 'non inflammatory bowel disease control; A1b Paris classification',\n",
       "   'resource_score': {'method': {'description': 'DESeq2 version: 1.10.1'},\n",
       "    'type': 'pvalue',\n",
       "    'value': 3.64e-06},\n",
       "   'test_replicates_n': 193,\n",
       "   'test_sample': \"Crohn's disease; A1b Paris classification\",\n",
       "   'unique_experiment_reference': 'STUDYID_E-GEOD-101794',\n",
       "   'urls': [{'nice_name': 'ArrayExpress Experiment overview',\n",
       "     'url': 'http://identifiers.org/arrayexpress/E-GEOD-101794'},\n",
       "    {'nice_name': 'Gene expression in Expression Atlas',\n",
       "     'url': 'http://www.ebi.ac.uk/gxa/experiments/E-GEOD-101794?geneQuery=ENSG00000134438'},\n",
       "    {'nice_name': 'Baseline gene expression in Expression Atlas',\n",
       "     'url': 'http://www.ebi.ac.uk/gxa/genes/ENSG00000134438'}]},\n",
       "  'id': '38c0851b3dba497d71ad645a01f498c3',\n",
       "  'private': {'datasource': 'expression_atlas',\n",
       "   'datatype': 'rna_expression',\n",
       "   'eco_codes': ['ECO_0000295'],\n",
       "   'efo_codes': ['EFO_0000540',\n",
       "    'EFO_0003767',\n",
       "    'EFO_0005140',\n",
       "    'EFO_0000405',\n",
       "    'EFO_0000384',\n",
       "    'EFO_0000408'],\n",
       "   'facets': {'go': {'biological_process': [{'code': 'GO:0043010',\n",
       "       'term': 'camera-type eye development'},\n",
       "      {'code': 'GO:0021854', 'term': 'hypothalamus development'},\n",
       "      {'code': 'GO:0060173', 'term': 'limb development'},\n",
       "      {'code': 'GO:0007389', 'term': 'pattern specification process'},\n",
       "      {'code': 'GO:0045944',\n",
       "       'term': 'positive regulation of transcription by RNA polymerase II'},\n",
       "      {'code': 'GO:0007601', 'term': 'visual perception'}],\n",
       "     'cellular_component': [{'code': 'GO:0000790',\n",
       "       'term': 'nuclear chromatin'}],\n",
       "     'molecular_function': [{'code': 'GO:0001228',\n",
       "       'term': 'DNA-binding transcription activator activity, RNA polymerase II-specific'},\n",
       "      {'code': 'GO:0000981',\n",
       "       'term': 'DNA-binding transcription factor activity, RNA polymerase II-specific'},\n",
       "      {'code': 'GO:0000978',\n",
       "       'term': 'RNA polymerase II proximal promoter sequence-specific DNA binding'}]},\n",
       "    'uniprot_keywords': ['Alternative splicing',\n",
       "     'Complete proteome',\n",
       "     'Developmental protein',\n",
       "     'Disease mutation',\n",
       "     'DNA-binding',\n",
       "     'Homeobox',\n",
       "     'Microphthalmia',\n",
       "     'Nucleus',\n",
       "     'Polymorphism',\n",
       "     'Reference proteome',\n",
       "     'Transcription',\n",
       "     'Transcription regulation']}},\n",
       "  'scores': {'association_score': 0.11307470223393612},\n",
       "  'sourceID': 'expression_atlas',\n",
       "  'target': {'activity': 'increased_transcript_level',\n",
       "   'gene_info': {'geneid': 'ENSG00000134438',\n",
       "    'name': 'retina and anterior neural fold homeobox',\n",
       "    'symbol': 'RAX'},\n",
       "   'id': 'ENSG00000134438',\n",
       "   'target_type': 'transcript_evidence'},\n",
       "  'type': 'rna_expression',\n",
       "  'unique_association_fields': {'comparison_name': \"'Crohn's disease' vs 'non inflammatory bowel disease control' in 'A1b Paris classification'\",\n",
       "   'datasource': 'expression_atlas',\n",
       "   'geneID': 'http://identifiers.org/ensembl/ENSG00000134438',\n",
       "   'study_id': 'http://identifiers.org/gxa.expt/E-GEOD-101794'}}}"
      ]
     },
     "execution_count": 20,
     "metadata": {},
     "output_type": "execute_result"
    }
   ],
   "source": [
    "res['hits']['hits'][0]"
   ]
  }
 ],
 "metadata": {
  "kernelspec": {
   "display_name": "Python 3",
   "language": "python",
   "name": "python3"
  },
  "language_info": {
   "codemirror_mode": {
    "name": "ipython",
    "version": 3
   },
   "file_extension": ".py",
   "mimetype": "text/x-python",
   "name": "python",
   "nbconvert_exporter": "python",
   "pygments_lexer": "ipython3",
   "version": "3.7.4"
  }
 },
 "nbformat": 4,
 "nbformat_minor": 4
}
